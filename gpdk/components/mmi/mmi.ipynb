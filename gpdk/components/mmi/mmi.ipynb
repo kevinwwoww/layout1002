{
 "cells": [
  {
   "attachments": {},
   "cell_type": "markdown",
   "metadata": {},
   "source": [
    "MMI test"
   ]
  },
  {
   "cell_type": "code",
   "execution_count": 3,
   "metadata": {},
   "outputs": [
    {
     "name": "stdout",
     "output_type": "stream",
     "text": [
      "FnPCell version: 1.5.1rc1\n",
      "GPDK version: 1.2.24\n"
     ]
    }
   ],
   "source": [
    "from dataclasses import dataclass\n",
    "from typing import Tuple\n",
    "from fnpcell import all as fp\n",
    "from gpdk.components.straight.straight import Straight\n",
    "from gpdk.components.taper.taper_linear import TaperLinear\n",
    "from gpdk.technology import get_technology\n",
    "from gpdk.technology.interfaces import CoreCladdingWaveguideType\n"
   ]
  },
  {
   "cell_type": "code",
   "execution_count": 5,
   "metadata": {},
   "outputs": [
    {
     "ename": "TypeError",
     "evalue": "<class '__main__.MMi'> is a built-in class",
     "output_type": "error",
     "traceback": [
      "\u001b[1;31m---------------------------------------------------------------------------\u001b[0m",
      "\u001b[1;31mTypeError\u001b[0m                                 Traceback (most recent call last)",
      "Cell \u001b[1;32mIn[5], line 2\u001b[0m\n\u001b[0;32m      1\u001b[0m \u001b[39m@dataclass\u001b[39m(eq\u001b[39m=\u001b[39m\u001b[39mFalse\u001b[39;00m)\n\u001b[1;32m----> 2\u001b[0m \u001b[39mclass\u001b[39;00m \u001b[39mMMi\u001b[39;00m(fp\u001b[39m.\u001b[39mPCell):\n\u001b[0;32m      4\u001b[0m     mid_wav_core_width: \u001b[39mfloat\u001b[39m \u001b[39m=\u001b[39m fp\u001b[39m.\u001b[39mPositiveFloatParam(default\u001b[39m=\u001b[39m\u001b[39m5\u001b[39m)\n\u001b[0;32m      5\u001b[0m     wav_core_width: \u001b[39mfloat\u001b[39m \u001b[39m=\u001b[39m fp\u001b[39m.\u001b[39mPositiveFloatParam(default\u001b[39m=\u001b[39m\u001b[39m1\u001b[39m)\n",
      "File \u001b[1;32mc:\\photoCAD\\layout1002\\.venv_layout1002\\lib\\site-packages\\fnpcell\\pdk\\_pcell_meta.py:77\u001b[0m, in \u001b[0;36m__new__\u001b[1;34m(mcls, cls_name, bases, namespace, locked, band, frozen, **kwargs)\u001b[0m\n",
      "File \u001b[1;32mC:\\PhotoCAD_std\\.python\\win_x64\\3.8.10\\lib\\inspect.py:665\u001b[0m, in \u001b[0;36mgetfile\u001b[1;34m(object)\u001b[0m\n\u001b[0;32m    663\u001b[0m         \u001b[39mif\u001b[39;00m \u001b[39mgetattr\u001b[39m(module, \u001b[39m'\u001b[39m\u001b[39m__file__\u001b[39m\u001b[39m'\u001b[39m, \u001b[39mNone\u001b[39;00m):\n\u001b[0;32m    664\u001b[0m             \u001b[39mreturn\u001b[39;00m module\u001b[39m.\u001b[39m\u001b[39m__file__\u001b[39m\n\u001b[1;32m--> 665\u001b[0m     \u001b[39mraise\u001b[39;00m \u001b[39mTypeError\u001b[39;00m(\u001b[39m'\u001b[39m\u001b[39m{!r}\u001b[39;00m\u001b[39m is a built-in class\u001b[39m\u001b[39m'\u001b[39m\u001b[39m.\u001b[39mformat(\u001b[39mobject\u001b[39m))\n\u001b[0;32m    666\u001b[0m \u001b[39mif\u001b[39;00m ismethod(\u001b[39mobject\u001b[39m):\n\u001b[0;32m    667\u001b[0m     \u001b[39mobject\u001b[39m \u001b[39m=\u001b[39m \u001b[39mobject\u001b[39m\u001b[39m.\u001b[39m\u001b[39m__func__\u001b[39m\n",
      "\u001b[1;31mTypeError\u001b[0m: <class '__main__.MMi'> is a built-in class"
     ]
    }
   ],
   "source": [
    "@dataclass(eq=False)\n",
    "class MMi(fp.PCell):\n",
    "\n",
    "    mid_wav_core_width: float = fp.PositiveFloatParam(default=5)\n",
    "    wav_core_width: float = fp.PositiveFloatParam(default=1)\n",
    "    # end_core_width=fp.PositiveFloatParam(default=0.45)\n",
    "    n_inputs: int = fp.PositiveIntParam(default=1)\n",
    "    n_outputs: int = fp.PositiveIntParam(default=2)\n",
    "    length: float = fp.PositiveFloatParam(default=25)\n",
    "    transition_length: float = fp.PositiveFloatParam(default=5)\n",
    "    trace_spacing: float = fp.PositiveFloatParam(default=2)\n",
    "    waveguide_type: CoreCladdingWaveguideType = fp.WaveguideTypeParam(type=CoreCladdingWaveguideType)\n",
    "\n",
    "    def _default_waveguide_type(self):\n",
    "        return get_technology().WG.FWG.C.WIRE\n",
    "\n",
    "    def build(self) -> Tuple[fp.InstanceSet, fp.ElementSet, fp.PortSet]:\n",
    "        insts, elems, ports = super().build()\n",
    "        # fmt: off\n",
    "        mid_wav_core_width = self.mid_wav_core_width\n",
    "        wav_core_width=self.wav_core_width\n",
    "        n_inputs = self.n_inputs\n",
    "        n_outputs = self.n_outputs\n",
    "        length = self.length\n",
    "        transition_length = self.transition_length\n",
    "        trace_spacing = self.trace_spacing\n",
    "        waveguide_type = self.waveguide_type\n",
    "\n",
    "        center_force_cladding_width = mid_wav_core_width+waveguide_type.cladding_width\n",
    "        center_type = waveguide_type.updated(core_layout_width=mid_wav_core_width, cladding_layout_width=center_force_cladding_width)\n",
    "        center = Straight(length=length, waveguide_type=center_type, anchor=fp.Anchor.START)\n",
    "        insts += center\n",
    "\n",
    "        wide_type = waveguide_type.updated(core_layout_width=wav_core_width, cladding_layout_width=waveguide_type.cladding_width + wav_core_width)\n",
    "        narrow_type = waveguide_type#.updated(core_layout_width=end_core_width, cladding_layout_width=waveguide_type.cladding_width + end_core_width)\n",
    "        taper_left = TaperLinear(length=transition_length, left_type=narrow_type, right_type=wide_type, anchor=fp.Anchor.END)\n",
    "        taper_right = TaperLinear(length=transition_length, left_type=wide_type, right_type=narrow_type, anchor=fp.Anchor.START)\n",
    "\n",
    "        base_in_y = - (n_inputs - 1) * trace_spacing / 2.0\n",
    "        for cnt in range(n_inputs):\n",
    "            taper_left_inst = taper_left.translated(0, base_in_y + cnt * trace_spacing)\n",
    "            insts += taper_left_inst\n",
    "            ports += taper_left_inst[\"op_0\"].with_name(f\"op_{n_inputs-cnt-1}\")\n",
    "\n",
    "        base_out_y = - (n_outputs - 1) * trace_spacing / 2.0\n",
    "        for cnt in range(n_outputs):\n",
    "            taper_right_inst = taper_right.translated(length, base_out_y + cnt * trace_spacing)\n",
    "            insts += taper_right_inst\n",
    "            ports += taper_right_inst[\"op_1\"].with_name(f\"op_{cnt + n_inputs}\")\n",
    "\n",
    "        # fmt: on\n",
    "        return insts, elems, ports\n",
    "\n",
    "\n"
   ]
  },
  {
   "cell_type": "code",
   "execution_count": null,
   "metadata": {},
   "outputs": [],
   "source": []
  }
 ],
 "metadata": {
  "kernelspec": {
   "display_name": ".venv_layout1002",
   "language": "python",
   "name": "python3"
  },
  "language_info": {
   "codemirror_mode": {
    "name": "ipython",
    "version": 3
   },
   "file_extension": ".py",
   "mimetype": "text/x-python",
   "name": "python",
   "nbconvert_exporter": "python",
   "pygments_lexer": "ipython3",
   "version": "3.8.10"
  },
  "orig_nbformat": 4,
  "vscode": {
   "interpreter": {
    "hash": "e4250078f554093d4a201b4fd749bd88fc7d4c57951ae125cc7ff217be8d7822"
   }
  }
 },
 "nbformat": 4,
 "nbformat_minor": 2
}
